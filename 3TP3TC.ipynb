{
  "nbformat": 4,
  "nbformat_minor": 0,
  "metadata": {
    "colab": {
      "name": "3TP3TC.ipynb",
      "provenance": [],
      "authorship_tag": "ABX9TyOtvVtSLLMox18pISOOjJi6",
      "include_colab_link": true
    },
    "kernelspec": {
      "name": "python3",
      "display_name": "Python 3"
    }
  },
  "cells": [
    {
      "cell_type": "markdown",
      "metadata": {
        "id": "view-in-github",
        "colab_type": "text"
      },
      "source": [
        "<a href=\"https://colab.research.google.com/github/ThuanPhong0126/AI/blob/master/3TP3TC.ipynb\" target=\"_parent\"><img src=\"https://colab.research.google.com/assets/colab-badge.svg\" alt=\"Open In Colab\"/></a>"
      ]
    },
    {
      "cell_type": "code",
      "metadata": {
        "id": "1qRnfPR2mb-C",
        "colab_type": "code",
        "colab": {}
      },
      "source": [
        "import copy\n",
        "class State:\n",
        "  def __init__(self,data=None,par=None,op=None):\n",
        "    self.data=data\n",
        "    self.par=par\n",
        "    self.op=op\n",
        "  def clone(self):\n",
        "    sn=copy.deepcopy(self)\n",
        "    return sn\n",
        "  def Print(self):\n",
        "    #print('Số triệu phú là: ',self.data[0])\n",
        "    #print('Số kẻ cướp là: ',self.data[1])\n",
        "    #if self.data[2]==1:\n",
        "     # print('Có thuyền đang đậu tại bến')\n",
        "    #else:\n",
        "    #  print('Thuyền đang ở bến bên kia')\n",
        "    if self.op=='Bắt đầu':\n",
        "      print('- ',self.op)\n",
        "    else:\n",
        "      if self.data[2]==0:\n",
        "        s='qua'\n",
        "      else: s='về'\n",
        "      if (self.op.i==1):\n",
        "        x,y=1,0\n",
        "      elif (self.op.i==2):\n",
        "        x,y=2,0\n",
        "      elif (self.op.i==3):\n",
        "        x,y=1,1\n",
        "      elif (self.op.i==4):\n",
        "        x,y=0,1\n",
        "      else: x,y=0,2\n",
        "      print(f'Chở {s} {x} triệu phú và {y} tên cướp')\n",
        "  def Key(self):\n",
        "    s=''\n",
        "    for i in self.data:\n",
        "      s+=str(i)\n",
        "    return s\n",
        "  def checkstate(self):\n",
        "    ok=True\n",
        "    if self.data[0]<data[1]:\n",
        "      ok=False\n",
        "    return ok\n",
        "  def __eq__(self,other):\n",
        "    if other==None:\n",
        "      return False\n",
        "    return self.Key()==other.Key()"
      ],
      "execution_count": 0,
      "outputs": []
    },
    {
      "cell_type": "code",
      "metadata": {
        "id": "SaIPWO92o4zU",
        "colab_type": "code",
        "colab": {}
      },
      "source": [
        "class Operator:\n",
        "  def __init__(self,i):\n",
        "    self.i=i\n",
        "  def Move(self,s):\n",
        "    if self.CheckStateNull(s): return None\n",
        "    ok,b=self.Check(s)\n",
        "    if ok:\n",
        "      return self.swap(s,b)\n",
        "  def CheckStateNull(self,s):\n",
        "    return s.data==None\n",
        "  def Check(self,s):\n",
        "    b=copy.deepcopy(s.data)\n",
        "    b[2]=(b[2]+1)%2\n",
        "    if s.data[2]==1:\n",
        "      if self.i==1:\n",
        "        b[0]-=1\n",
        "        return self.check2(b),b\n",
        "      elif self.i==2:\n",
        "        b[0]-=2\n",
        "        return self.check2(b),b\n",
        "      elif self.i==3:\n",
        "        b[0]-=1\n",
        "        b[1]-=1\n",
        "        return self.check2(b),b\n",
        "      elif self.i==4:\n",
        "        b[1]-=1\n",
        "        return self.check2(b),b\n",
        "      else:\n",
        "        b[1]-=2\n",
        "        return self.check2(b),b\n",
        "     \n",
        "     \n",
        "    if s.data[2]==0:\n",
        "      if self.i==1:\n",
        "        b[0]+=1\n",
        "        return self.check2(b),b\n",
        "      elif self.i==2:\n",
        "        b[0]+=2\n",
        "        return self.check2(b),b\n",
        "      elif self.i==3:\n",
        "        b[0]+=1\n",
        "        b[1]+=1\n",
        "        return self.check2(b),b\n",
        "      elif self.i==4:\n",
        "        b[1]+=1\n",
        "        return self.check2(b),b\n",
        "      else:\n",
        "        b[1]+=2\n",
        "        return self.check2(b),b\n",
        " \n",
        "  def swap(self,s,b):\n",
        "    sn=s.clone()\n",
        "    sn.data=b\n",
        "    return sn\n",
        "    \n",
        "\n",
        "  def check2(self,b):\n",
        "    if (b[0]<b[1]) and (b[0] !=0) :\n",
        "      return False\n",
        "    if (3-b[0]<3-b[1]) and (3-b[0]!=0):\n",
        "      return False\n",
        "    return True\n",
        "\n",
        "    \n",
        "\n",
        "\n",
        "      "
      ],
      "execution_count": 0,
      "outputs": []
    },
    {
      "cell_type": "code",
      "metadata": {
        "id": "ZOgew1vczfrU",
        "colab_type": "code",
        "colab": {}
      },
      "source": [
        "def equal(O,G):\n",
        "  if O==None:\n",
        "    return False\n",
        "  return O==G"
      ],
      "execution_count": 0,
      "outputs": []
    },
    {
      "cell_type": "code",
      "metadata": {
        "id": "kM3R1L0ozvu0",
        "colab_type": "code",
        "colab": {}
      },
      "source": [
        "def checkInQueue(Open,tmp):\n",
        "  if tmp==None:\n",
        "    return False\n",
        "  return (tmp in Open.queue)"
      ],
      "execution_count": 0,
      "outputs": []
    },
    {
      "cell_type": "code",
      "metadata": {
        "id": "K_c3A7nH0AEt",
        "colab_type": "code",
        "colab": {}
      },
      "source": [
        "def Path(O):\n",
        "  if O.par!=None:\n",
        "    Path(O.par)\n",
        "  O.Print()\n",
        "  print('-----------------------------')"
      ],
      "execution_count": 0,
      "outputs": []
    },
    {
      "cell_type": "code",
      "metadata": {
        "id": "aus4xzsdxMH5",
        "colab_type": "code",
        "colab": {}
      },
      "source": [
        "from queue import Queue\n",
        "def Run():\n",
        "  G=State(data=[0,0,0])\n",
        "  Open,Closed=Queue(),Queue()\n",
        "  S=State(data=[3,3,1],op='Bắt đầu')\n",
        "  Open.put(S)\n",
        "  while True:\n",
        "    if Open.empty():\n",
        "      print('Failed')\n",
        "      return\n",
        "    O=Open.get()\n",
        "    Closed.put(O)\n",
        "    if (equal(O,G)==True):\n",
        "      print('OK')\n",
        "      Path(O)\n",
        "      print('WIN')\n",
        "      break\n",
        "    for i in range(1,6):\n",
        "      op=Operator(i)\n",
        "      child=op.Move(O)\n",
        "      if child==None:\n",
        "        continue\n",
        "      ok1=checkInQueue(Open,child)\n",
        "      ok2=checkInQueue(Closed,child)\n",
        "      if not ok1 and not ok2:\n",
        "        child.par=O\n",
        "        child.op=op\n",
        "        Open.put(child)"
      ],
      "execution_count": 0,
      "outputs": []
    },
    {
      "cell_type": "code",
      "metadata": {
        "id": "zmr44C1ryTJu",
        "colab_type": "code",
        "outputId": "9462baf5-f0f7-4553-87bc-14ec90749742",
        "colab": {
          "base_uri": "https://localhost:8080/",
          "height": 459
        }
      },
      "source": [
        "Run()"
      ],
      "execution_count": 0,
      "outputs": [
        {
          "output_type": "stream",
          "text": [
            "OK\n",
            "-  Bắt đầu\n",
            "-----------------------------\n",
            "Chở qua 1 triệu phú và 1 tên cướp\n",
            "-----------------------------\n",
            "Chở về 1 triệu phú và 0 tên cướp\n",
            "-----------------------------\n",
            "Chở qua 0 triệu phú và 2 tên cướp\n",
            "-----------------------------\n",
            "Chở về 0 triệu phú và 1 tên cướp\n",
            "-----------------------------\n",
            "Chở qua 2 triệu phú và 0 tên cướp\n",
            "-----------------------------\n",
            "Chở về 1 triệu phú và 1 tên cướp\n",
            "-----------------------------\n",
            "Chở qua 2 triệu phú và 0 tên cướp\n",
            "-----------------------------\n",
            "Chở về 0 triệu phú và 1 tên cướp\n",
            "-----------------------------\n",
            "Chở qua 0 triệu phú và 2 tên cướp\n",
            "-----------------------------\n",
            "Chở về 1 triệu phú và 0 tên cướp\n",
            "-----------------------------\n",
            "Chở qua 1 triệu phú và 1 tên cướp\n",
            "-----------------------------\n",
            "WIN\n"
          ],
          "name": "stdout"
        }
      ]
    },
    {
      "cell_type": "code",
      "metadata": {
        "id": "YvWJRyGz0Wof",
        "colab_type": "code",
        "colab": {}
      },
      "source": [
        ""
      ],
      "execution_count": 0,
      "outputs": []
    }
  ]
}